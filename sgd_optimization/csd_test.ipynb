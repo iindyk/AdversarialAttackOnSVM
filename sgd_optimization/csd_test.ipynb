{
 "cells": [
  {
   "cell_type": "code",
   "execution_count": 3,
   "metadata": {
    "collapsed": true
   },
   "outputs": [],
   "source": [
    "from sys import path\n",
    "path.append(r\"/home/iindyk/cas\")"
   ]
  },
  {
   "cell_type": "code",
   "execution_count": 4,
   "metadata": {},
   "outputs": [
    {
     "name": "stdout",
     "output_type": "stream",
     "text": [
      "cos(x)\n"
     ]
    }
   ],
   "source": [
    "from casadi import *\n",
    "x = MX.sym(\"x\")\n",
    "print(jacobian(sin(x),x))"
   ]
  },
  {
   "cell_type": "code",
   "execution_count": 5,
   "metadata": {},
   "outputs": [
    {
     "data": {
      "text/plain": [
       "['',\n '/home/iindyk/anaconda3/lib/python36.zip',\n '/home/iindyk/anaconda3/lib/python3.6',\n '/home/iindyk/anaconda3/lib/python3.6/lib-dynload',\n '/home/iindyk/anaconda3/lib/python3.6/site-packages',\n '/home/iindyk/anaconda3/lib/python3.6/site-packages/Sphinx-1.5.6-py3.6.egg',\n '/home/iindyk/anaconda3/lib/python3.6/site-packages/setuptools-27.2.0-py3.6.egg',\n '/home/iindyk/anaconda3/lib/python3.6/site-packages/IPython/extensions',\n '/home/iindyk/.ipython',\n '.../cas',\n '/home/iindyk/cas']"
      ]
     },
     "execution_count": 5,
     "metadata": {},
     "output_type": "execute_result"
    }
   ],
   "source": [
    "path"
   ]
  },
  {
   "cell_type": "code",
   "execution_count": 6,
   "metadata": {},
   "outputs": [
    {
     "data": {
      "text/plain": [
       "'.../cas'"
      ]
     },
     "execution_count": 6,
     "metadata": {},
     "output_type": "execute_result"
    }
   ],
   "source": [
    "path[9]"
   ]
  },
  {
   "cell_type": "code",
   "execution_count": 7,
   "metadata": {},
   "outputs": [],
   "source": [
    "path.remove('.../cas')"
   ]
  },
  {
   "cell_type": "code",
   "execution_count": 8,
   "metadata": {},
   "outputs": [
    {
     "data": {
      "text/plain": [
       "['',\n '/home/iindyk/anaconda3/lib/python36.zip',\n '/home/iindyk/anaconda3/lib/python3.6',\n '/home/iindyk/anaconda3/lib/python3.6/lib-dynload',\n '/home/iindyk/anaconda3/lib/python3.6/site-packages',\n '/home/iindyk/anaconda3/lib/python3.6/site-packages/Sphinx-1.5.6-py3.6.egg',\n '/home/iindyk/anaconda3/lib/python3.6/site-packages/setuptools-27.2.0-py3.6.egg',\n '/home/iindyk/anaconda3/lib/python3.6/site-packages/IPython/extensions',\n '/home/iindyk/.ipython',\n '/home/iindyk/cas']"
      ]
     },
     "execution_count": 8,
     "metadata": {},
     "output_type": "execute_result"
    }
   ],
   "source": [
    "path"
   ]
  },
  {
   "cell_type": "code",
   "execution_count": null,
   "metadata": {},
   "outputs": [],
   "source": [
    ""
   ]
  }
 ],
 "metadata": {
  "kernelspec": {
   "display_name": "Python 2",
   "language": "python",
   "name": "python2"
  },
  "language_info": {
   "codemirror_mode": {
    "name": "ipython",
    "version": 2.0
   },
   "file_extension": ".py",
   "mimetype": "text/x-python",
   "name": "python",
   "nbconvert_exporter": "python",
   "pygments_lexer": "ipython2",
   "version": "2.7.6"
  }
 },
 "nbformat": 4,
 "nbformat_minor": 0
}